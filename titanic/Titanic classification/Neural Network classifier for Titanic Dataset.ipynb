{
 "cells": [
  {
   "cell_type": "markdown",
   "metadata": {},
   "source": [
    "# Loading Data"
   ]
  },
  {
   "cell_type": "code",
   "execution_count": 1,
   "metadata": {},
   "outputs": [
    {
     "name": "stderr",
     "output_type": "stream",
     "text": [
      "c:\\users\\admin\\anaconda2\\envs\\python3.5\\lib\\site-packages\\h5py\\__init__.py:34: FutureWarning: Conversion of the second argument of issubdtype from `float` to `np.floating` is deprecated. In future, it will be treated as `np.float64 == np.dtype(float).type`.\n",
      "  from ._conv import register_converters as _register_converters\n"
     ]
    },
    {
     "name": "stdout",
     "output_type": "stream",
     "text": [
      "curses is not supported on this machine (please install/reinstall curses for an optimal experience)\n"
     ]
    }
   ],
   "source": [
    "import numpy as np \n",
    "import tflearn\n",
    "\n",
    "# downloading the titanic dataset\n",
    "from tflearn.datasets import titanic\n",
    "titanic.download_dataset('titanic_dataset.csv')\n",
    "\n",
    "# load CSV file, indicating 1st_column[labels]\n",
    "from tflearn.data_utils import load_csv\n",
    "data, labels = load_csv('titanic_dataset.csv', target_column=0, categorical_labels=True, n_classes=2)"
   ]
  },
  {
   "cell_type": "markdown",
   "metadata": {},
   "source": [
    "# Data Preprocessing"
   ]
  },
  {
   "cell_type": "markdown",
   "metadata": {},
   "source": [
    "We need to convert all our data to numerical values, because a neural network model can only perform operations over numbers. However, our dataset contains some non numerical values, such as 'name' or 'sex'. Column 'name' is discarded, we just need to handle 'sex' field. In this simple case, we will just assign '0' to males and '1' to females."
   ]
  },
  {
   "cell_type": "code",
   "execution_count": 2,
   "metadata": {},
   "outputs": [],
   "source": [
    "# Preprocessing function\n",
    "\n",
    "def preprocess(passengers, columns_to_delete):\n",
    "    # Sort by descending id and delete columns\n",
    "    for column_to_delete in sorted(columns_to_delete, reverse=True):\n",
    "        [passenger.pop(column_to_delete) for passenger in passengers]\n",
    "        \n",
    "    for i in range(len(passengers)):\n",
    "        # Converting 'sex' field to float (id is 1 after removing labels column)\n",
    "        passengers[i][1] = 1. if passengers[i][1] == 'female' else 0.\n",
    "    return np.array(passengers, dtype=np.float32)\n",
    "\n",
    "# Ignore 'name' and 'ticket' columns (id 1 & 6 of data array)\n",
    "to_ignore=[1, 6]\n",
    "\n",
    "# Preprocess data\n",
    "data = preprocess(data, to_ignore)\n",
    "    "
   ]
  },
  {
   "cell_type": "markdown",
   "metadata": {},
   "source": [
    "# Build a Deep Neural Network"
   ]
  },
  {
   "cell_type": "markdown",
   "metadata": {},
   "source": [
    "We are building a 3-layers neural network using TFLearn. We need to specify the shape of our input data. In our case, each sample has a total of 6 features and we will process samples per batch to save memory, so our data input shape is [None, 6] ('None' stands for an unknown dimension, so we can change the total number of samples that are processed in a batch)."
   ]
  },
  {
   "cell_type": "code",
   "execution_count": 3,
   "metadata": {
    "collapsed": true
   },
   "outputs": [],
   "source": [
    "# Build neural network\n",
    "nnet = tflearn.input_data(shape= [None, 6])\n",
    "nnet = tflearn.fully_connected(nnet, 32)\n",
    "nnet = tflearn.fully_connected(nnet, 32)\n",
    "nnet = tflearn.fully_connected(nnet, 2, activation='softmax')\n",
    "nnet = tflearn.regression(nnet)"
   ]
  },
  {
   "cell_type": "markdown",
   "metadata": {},
   "source": [
    "# Training"
   ]
  },
  {
   "cell_type": "markdown",
   "metadata": {},
   "source": [
    "TFLearn provides a model wrapper 'DNN' that can automatically performs a neural network classifier tasks, such as training, prediction, save/restore, etc... We will run it for 40 epochs (the network will see all data 40 times) with a batch size of 32."
   ]
  },
  {
   "cell_type": "code",
   "execution_count": 4,
   "metadata": {},
   "outputs": [
    {
     "name": "stdout",
     "output_type": "stream",
     "text": [
      "Training Step: 1639  | total loss: \u001b[1m\u001b[32m0.45191\u001b[0m\u001b[0m | time: 0.510s\n",
      "| Adam | epoch: 040 | loss: 0.45191 - acc: 0.8050 -- iter: 1280/1309\n",
      "Training Step: 1640  | total loss: \u001b[1m\u001b[32m0.45112\u001b[0m\u001b[0m | time: 0.520s\n",
      "| Adam | epoch: 040 | loss: 0.45112 - acc: 0.8027 -- iter: 1309/1309\n",
      "--\n"
     ]
    }
   ],
   "source": [
    "# define model\n",
    "model = tflearn.DNN(nnet)\n",
    "\n",
    "# start training apply gradient descent algorithm\n",
    "model.fit(data, labels, n_epoch=40, batch_size=32, show_metric=True)"
   ]
  },
  {
   "cell_type": "markdown",
   "metadata": {},
   "source": [
    "Neural network model finish to train with an overall accuracy around 80%, which means that it can predict the correct outcome (survived or not) for 80% of the total passengers."
   ]
  },
  {
   "cell_type": "markdown",
   "metadata": {},
   "source": [
    "# Testing the Model"
   ]
  },
  {
   "cell_type": "markdown",
   "metadata": {},
   "source": [
    "It's time to try out the model\n",
    "Lets take Titanic movie protagonists (Leonardo DiCaprio and Kate Winslet) and calculate their chance of surviving (class 1)."
   ]
  },
  {
   "cell_type": "code",
   "execution_count": 5,
   "metadata": {},
   "outputs": [
    {
     "name": "stdout",
     "output_type": "stream",
     "text": [
      "Leonardo DiCaprio Surviving Rate: 0.119364284\n",
      "Kate Winslet Surviving Rate: 0.93090546\n"
     ]
    }
   ],
   "source": [
    "# lets create some data Leonardo DiCaprio and Kate Winslet\n",
    "l_dicaprio = [3, 'Jack Dawson', 'male', 19, 0, 0, 'N/A', 5.0000]\n",
    "k_winslet = [1, 'Rose DeWitt Bukater', 'female', 17, 1, 2, 'N/A', 100.0000]\n",
    "\n",
    "# preprocess data\n",
    "l_dicaprio, k_winslet = preprocess([l_dicaprio, k_winslet], to_ignore)\n",
    "\n",
    "# lets predict surviving chances (class 1 results)\n",
    "pred = model.predict([l_dicaprio, k_winslet])\n",
    "print(\"Leonardo DiCaprio Surviving Rate:\", pred[0][1])\n",
    "print(\"Kate Winslet Surviving Rate:\", pred[1][1])"
   ]
  },
  {
   "cell_type": "markdown",
   "metadata": {},
   "source": [
    "Awesome! Model accurately predicted the outcome of the movie. Odds were against Leonardo DiCaprio, but Kate Winslet had a high chance of surviving."
   ]
  },
  {
   "cell_type": "markdown",
   "metadata": {},
   "source": [
    "More generally, it can be seen through this study that women and children passengers from first class have the highest chance of surviving, while third class male passengers have the lowest."
   ]
  },
  {
   "cell_type": "markdown",
   "metadata": {},
   "source": [
    "Thank You!"
   ]
  },
  {
   "cell_type": "code",
   "execution_count": null,
   "metadata": {
    "collapsed": true
   },
   "outputs": [],
   "source": []
  }
 ],
 "metadata": {
  "kernelspec": {
   "display_name": "Python 3",
   "language": "python",
   "name": "python3"
  },
  "language_info": {
   "codemirror_mode": {
    "name": "ipython",
    "version": 3
   },
   "file_extension": ".py",
   "mimetype": "text/x-python",
   "name": "python",
   "nbconvert_exporter": "python",
   "pygments_lexer": "ipython3",
   "version": "3.5.3"
  }
 },
 "nbformat": 4,
 "nbformat_minor": 2
}
